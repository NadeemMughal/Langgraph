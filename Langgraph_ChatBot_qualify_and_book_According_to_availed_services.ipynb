{
  "nbformat": 4,
  "nbformat_minor": 0,
  "metadata": {
    "colab": {
      "provenance": [],
      "authorship_tag": "ABX9TyP68Fu5UuQvm1PnwvufnHCO",
      "include_colab_link": true
    },
    "kernelspec": {
      "name": "python3",
      "display_name": "Python 3"
    },
    "language_info": {
      "name": "python"
    }
  },
  "cells": [
    {
      "cell_type": "markdown",
      "metadata": {
        "id": "view-in-github",
        "colab_type": "text"
      },
      "source": [
        "<a href=\"https://colab.research.google.com/github/NadeemMughal/Langgraph/blob/main/Langgraph_ChatBot_qualify_and_book_According_to_availed_services.ipynb\" target=\"_parent\"><img src=\"https://colab.research.google.com/assets/colab-badge.svg\" alt=\"Open In Colab\"/></a>"
      ]
    },
    {
      "cell_type": "code",
      "execution_count": 1,
      "metadata": {
        "colab": {
          "base_uri": "https://localhost:8080/"
        },
        "id": "vZT1eEduACHQ",
        "outputId": "0585644d-5e4e-47c3-e0bb-15c052798bfc"
      },
      "outputs": [
        {
          "output_type": "stream",
          "name": "stdout",
          "text": [
            "Collecting langgraph\n",
            "  Downloading langgraph-0.2.66-py3-none-any.whl.metadata (16 kB)\n",
            "Requirement already satisfied: langchain in /usr/local/lib/python3.11/dist-packages (0.3.14)\n",
            "Requirement already satisfied: langchain_core in /usr/local/lib/python3.11/dist-packages (0.3.29)\n",
            "Collecting langchain_community\n",
            "  Downloading langchain_community-0.3.15-py3-none-any.whl.metadata (2.9 kB)\n",
            "Collecting langgraph-checkpoint<3.0.0,>=2.0.10 (from langgraph)\n",
            "  Downloading langgraph_checkpoint-2.0.10-py3-none-any.whl.metadata (4.6 kB)\n",
            "Collecting langgraph-sdk<0.2.0,>=0.1.42 (from langgraph)\n",
            "  Downloading langgraph_sdk-0.1.51-py3-none-any.whl.metadata (1.8 kB)\n",
            "Requirement already satisfied: PyYAML>=5.3 in /usr/local/lib/python3.11/dist-packages (from langchain) (6.0.2)\n",
            "Requirement already satisfied: SQLAlchemy<3,>=1.4 in /usr/local/lib/python3.11/dist-packages (from langchain) (2.0.37)\n",
            "Requirement already satisfied: aiohttp<4.0.0,>=3.8.3 in /usr/local/lib/python3.11/dist-packages (from langchain) (3.11.11)\n",
            "Requirement already satisfied: langchain-text-splitters<0.4.0,>=0.3.3 in /usr/local/lib/python3.11/dist-packages (from langchain) (0.3.5)\n",
            "Requirement already satisfied: langsmith<0.3,>=0.1.17 in /usr/local/lib/python3.11/dist-packages (from langchain) (0.2.10)\n",
            "Requirement already satisfied: numpy<2,>=1.22.4 in /usr/local/lib/python3.11/dist-packages (from langchain) (1.26.4)\n",
            "Requirement already satisfied: pydantic<3.0.0,>=2.7.4 in /usr/local/lib/python3.11/dist-packages (from langchain) (2.10.5)\n",
            "Requirement already satisfied: requests<3,>=2 in /usr/local/lib/python3.11/dist-packages (from langchain) (2.32.3)\n",
            "Requirement already satisfied: tenacity!=8.4.0,<10,>=8.1.0 in /usr/local/lib/python3.11/dist-packages (from langchain) (9.0.0)\n",
            "Requirement already satisfied: jsonpatch<2.0,>=1.33 in /usr/local/lib/python3.11/dist-packages (from langchain_core) (1.33)\n",
            "Requirement already satisfied: packaging<25,>=23.2 in /usr/local/lib/python3.11/dist-packages (from langchain_core) (24.2)\n",
            "Requirement already satisfied: typing-extensions>=4.7 in /usr/local/lib/python3.11/dist-packages (from langchain_core) (4.12.2)\n",
            "Collecting dataclasses-json<0.7,>=0.5.7 (from langchain_community)\n",
            "  Downloading dataclasses_json-0.6.7-py3-none-any.whl.metadata (25 kB)\n",
            "Collecting httpx-sse<0.5.0,>=0.4.0 (from langchain_community)\n",
            "  Downloading httpx_sse-0.4.0-py3-none-any.whl.metadata (9.0 kB)\n",
            "Collecting langchain\n",
            "  Downloading langchain-0.3.15-py3-none-any.whl.metadata (7.1 kB)\n",
            "Collecting langchain_core\n",
            "  Downloading langchain_core-0.3.31-py3-none-any.whl.metadata (6.3 kB)\n",
            "Collecting pydantic-settings<3.0.0,>=2.4.0 (from langchain_community)\n",
            "  Downloading pydantic_settings-2.7.1-py3-none-any.whl.metadata (3.5 kB)\n",
            "Requirement already satisfied: aiohappyeyeballs>=2.3.0 in /usr/local/lib/python3.11/dist-packages (from aiohttp<4.0.0,>=3.8.3->langchain) (2.4.4)\n",
            "Requirement already satisfied: aiosignal>=1.1.2 in /usr/local/lib/python3.11/dist-packages (from aiohttp<4.0.0,>=3.8.3->langchain) (1.3.2)\n",
            "Requirement already satisfied: attrs>=17.3.0 in /usr/local/lib/python3.11/dist-packages (from aiohttp<4.0.0,>=3.8.3->langchain) (24.3.0)\n",
            "Requirement already satisfied: frozenlist>=1.1.1 in /usr/local/lib/python3.11/dist-packages (from aiohttp<4.0.0,>=3.8.3->langchain) (1.5.0)\n",
            "Requirement already satisfied: multidict<7.0,>=4.5 in /usr/local/lib/python3.11/dist-packages (from aiohttp<4.0.0,>=3.8.3->langchain) (6.1.0)\n",
            "Requirement already satisfied: propcache>=0.2.0 in /usr/local/lib/python3.11/dist-packages (from aiohttp<4.0.0,>=3.8.3->langchain) (0.2.1)\n",
            "Requirement already satisfied: yarl<2.0,>=1.17.0 in /usr/local/lib/python3.11/dist-packages (from aiohttp<4.0.0,>=3.8.3->langchain) (1.18.3)\n",
            "Collecting marshmallow<4.0.0,>=3.18.0 (from dataclasses-json<0.7,>=0.5.7->langchain_community)\n",
            "  Downloading marshmallow-3.25.1-py3-none-any.whl.metadata (7.3 kB)\n",
            "Collecting typing-inspect<1,>=0.4.0 (from dataclasses-json<0.7,>=0.5.7->langchain_community)\n",
            "  Downloading typing_inspect-0.9.0-py3-none-any.whl.metadata (1.5 kB)\n",
            "Requirement already satisfied: jsonpointer>=1.9 in /usr/local/lib/python3.11/dist-packages (from jsonpatch<2.0,>=1.33->langchain_core) (3.0.0)\n",
            "Requirement already satisfied: msgpack<2.0.0,>=1.1.0 in /usr/local/lib/python3.11/dist-packages (from langgraph-checkpoint<3.0.0,>=2.0.10->langgraph) (1.1.0)\n",
            "Requirement already satisfied: httpx>=0.25.2 in /usr/local/lib/python3.11/dist-packages (from langgraph-sdk<0.2.0,>=0.1.42->langgraph) (0.28.1)\n",
            "Requirement already satisfied: orjson>=3.10.1 in /usr/local/lib/python3.11/dist-packages (from langgraph-sdk<0.2.0,>=0.1.42->langgraph) (3.10.14)\n",
            "Requirement already satisfied: requests-toolbelt<2.0.0,>=1.0.0 in /usr/local/lib/python3.11/dist-packages (from langsmith<0.3,>=0.1.17->langchain) (1.0.0)\n",
            "Requirement already satisfied: annotated-types>=0.6.0 in /usr/local/lib/python3.11/dist-packages (from pydantic<3.0.0,>=2.7.4->langchain) (0.7.0)\n",
            "Requirement already satisfied: pydantic-core==2.27.2 in /usr/local/lib/python3.11/dist-packages (from pydantic<3.0.0,>=2.7.4->langchain) (2.27.2)\n",
            "Collecting python-dotenv>=0.21.0 (from pydantic-settings<3.0.0,>=2.4.0->langchain_community)\n",
            "  Downloading python_dotenv-1.0.1-py3-none-any.whl.metadata (23 kB)\n",
            "Requirement already satisfied: charset-normalizer<4,>=2 in /usr/local/lib/python3.11/dist-packages (from requests<3,>=2->langchain) (3.4.1)\n",
            "Requirement already satisfied: idna<4,>=2.5 in /usr/local/lib/python3.11/dist-packages (from requests<3,>=2->langchain) (3.10)\n",
            "Requirement already satisfied: urllib3<3,>=1.21.1 in /usr/local/lib/python3.11/dist-packages (from requests<3,>=2->langchain) (2.3.0)\n",
            "Requirement already satisfied: certifi>=2017.4.17 in /usr/local/lib/python3.11/dist-packages (from requests<3,>=2->langchain) (2024.12.14)\n",
            "Requirement already satisfied: greenlet!=0.4.17 in /usr/local/lib/python3.11/dist-packages (from SQLAlchemy<3,>=1.4->langchain) (3.1.1)\n",
            "Requirement already satisfied: anyio in /usr/local/lib/python3.11/dist-packages (from httpx>=0.25.2->langgraph-sdk<0.2.0,>=0.1.42->langgraph) (3.7.1)\n",
            "Requirement already satisfied: httpcore==1.* in /usr/local/lib/python3.11/dist-packages (from httpx>=0.25.2->langgraph-sdk<0.2.0,>=0.1.42->langgraph) (1.0.7)\n",
            "Requirement already satisfied: h11<0.15,>=0.13 in /usr/local/lib/python3.11/dist-packages (from httpcore==1.*->httpx>=0.25.2->langgraph-sdk<0.2.0,>=0.1.42->langgraph) (0.14.0)\n",
            "Collecting mypy-extensions>=0.3.0 (from typing-inspect<1,>=0.4.0->dataclasses-json<0.7,>=0.5.7->langchain_community)\n",
            "  Downloading mypy_extensions-1.0.0-py3-none-any.whl.metadata (1.1 kB)\n",
            "Requirement already satisfied: sniffio>=1.1 in /usr/local/lib/python3.11/dist-packages (from anyio->httpx>=0.25.2->langgraph-sdk<0.2.0,>=0.1.42->langgraph) (1.3.1)\n",
            "Downloading langgraph-0.2.66-py3-none-any.whl (145 kB)\n",
            "\u001b[2K   \u001b[90m━━━━━━━━━━━━━━━━━━━━━━━━━━━━━━━━━━━━━━━━\u001b[0m \u001b[32m145.3/145.3 kB\u001b[0m \u001b[31m6.6 MB/s\u001b[0m eta \u001b[36m0:00:00\u001b[0m\n",
            "\u001b[?25hDownloading langchain_community-0.3.15-py3-none-any.whl (2.5 MB)\n",
            "\u001b[2K   \u001b[90m━━━━━━━━━━━━━━━━━━━━━━━━━━━━━━━━━━━━━━━━\u001b[0m \u001b[32m2.5/2.5 MB\u001b[0m \u001b[31m35.8 MB/s\u001b[0m eta \u001b[36m0:00:00\u001b[0m\n",
            "\u001b[?25hDownloading langchain-0.3.15-py3-none-any.whl (1.0 MB)\n",
            "\u001b[2K   \u001b[90m━━━━━━━━━━━━━━━━━━━━━━━━━━━━━━━━━━━━━━━━\u001b[0m \u001b[32m1.0/1.0 MB\u001b[0m \u001b[31m40.8 MB/s\u001b[0m eta \u001b[36m0:00:00\u001b[0m\n",
            "\u001b[?25hDownloading langchain_core-0.3.31-py3-none-any.whl (412 kB)\n",
            "\u001b[2K   \u001b[90m━━━━━━━━━━━━━━━━━━━━━━━━━━━━━━━━━━━━━━━━\u001b[0m \u001b[32m412.2/412.2 kB\u001b[0m \u001b[31m14.5 MB/s\u001b[0m eta \u001b[36m0:00:00\u001b[0m\n",
            "\u001b[?25hDownloading dataclasses_json-0.6.7-py3-none-any.whl (28 kB)\n",
            "Downloading httpx_sse-0.4.0-py3-none-any.whl (7.8 kB)\n",
            "Downloading langgraph_checkpoint-2.0.10-py3-none-any.whl (37 kB)\n",
            "Downloading langgraph_sdk-0.1.51-py3-none-any.whl (44 kB)\n",
            "\u001b[2K   \u001b[90m━━━━━━━━━━━━━━━━━━━━━━━━━━━━━━━━━━━━━━━━\u001b[0m \u001b[32m44.7/44.7 kB\u001b[0m \u001b[31m3.7 MB/s\u001b[0m eta \u001b[36m0:00:00\u001b[0m\n",
            "\u001b[?25hDownloading pydantic_settings-2.7.1-py3-none-any.whl (29 kB)\n",
            "Downloading marshmallow-3.25.1-py3-none-any.whl (49 kB)\n",
            "\u001b[2K   \u001b[90m━━━━━━━━━━━━━━━━━━━━━━━━━━━━━━━━━━━━━━━━\u001b[0m \u001b[32m49.6/49.6 kB\u001b[0m \u001b[31m3.6 MB/s\u001b[0m eta \u001b[36m0:00:00\u001b[0m\n",
            "\u001b[?25hDownloading python_dotenv-1.0.1-py3-none-any.whl (19 kB)\n",
            "Downloading typing_inspect-0.9.0-py3-none-any.whl (8.8 kB)\n",
            "Downloading mypy_extensions-1.0.0-py3-none-any.whl (4.7 kB)\n",
            "Installing collected packages: python-dotenv, mypy-extensions, marshmallow, httpx-sse, typing-inspect, pydantic-settings, langgraph-sdk, dataclasses-json, langchain_core, langgraph-checkpoint, langgraph, langchain, langchain_community\n",
            "  Attempting uninstall: langchain_core\n",
            "    Found existing installation: langchain-core 0.3.29\n",
            "    Uninstalling langchain-core-0.3.29:\n",
            "      Successfully uninstalled langchain-core-0.3.29\n",
            "  Attempting uninstall: langchain\n",
            "    Found existing installation: langchain 0.3.14\n",
            "    Uninstalling langchain-0.3.14:\n",
            "      Successfully uninstalled langchain-0.3.14\n",
            "Successfully installed dataclasses-json-0.6.7 httpx-sse-0.4.0 langchain-0.3.15 langchain_community-0.3.15 langchain_core-0.3.31 langgraph-0.2.66 langgraph-checkpoint-2.0.10 langgraph-sdk-0.1.51 marshmallow-3.25.1 mypy-extensions-1.0.0 pydantic-settings-2.7.1 python-dotenv-1.0.1 typing-inspect-0.9.0\n"
          ]
        }
      ],
      "source": [
        "!pip install langgraph langchain langchain_core langchain_community"
      ]
    },
    {
      "cell_type": "code",
      "source": [
        "from google.colab import userdata\n",
        "GEMINI_API_KEY = userdata.get('GEMINI_API_KEY')"
      ],
      "metadata": {
        "id": "kwyaL-MtAYFy"
      },
      "execution_count": 2,
      "outputs": []
    },
    {
      "cell_type": "code",
      "source": [
        "!pip install langchain_google_genai"
      ],
      "metadata": {
        "colab": {
          "base_uri": "https://localhost:8080/"
        },
        "id": "yfSU8gHNA83b",
        "outputId": "7b605a8c-a447-44d1-9bd3-29c4b295b148"
      },
      "execution_count": 4,
      "outputs": [
        {
          "output_type": "stream",
          "name": "stdout",
          "text": [
            "Collecting langchain_google_genai\n",
            "  Downloading langchain_google_genai-2.0.9-py3-none-any.whl.metadata (3.6 kB)\n",
            "Collecting filetype<2.0.0,>=1.2.0 (from langchain_google_genai)\n",
            "  Downloading filetype-1.2.0-py2.py3-none-any.whl.metadata (6.5 kB)\n",
            "Requirement already satisfied: google-generativeai<0.9.0,>=0.8.0 in /usr/local/lib/python3.11/dist-packages (from langchain_google_genai) (0.8.3)\n",
            "Requirement already satisfied: langchain-core<0.4.0,>=0.3.27 in /usr/local/lib/python3.11/dist-packages (from langchain_google_genai) (0.3.31)\n",
            "Requirement already satisfied: pydantic<3,>=2 in /usr/local/lib/python3.11/dist-packages (from langchain_google_genai) (2.10.5)\n",
            "Requirement already satisfied: google-ai-generativelanguage==0.6.10 in /usr/local/lib/python3.11/dist-packages (from google-generativeai<0.9.0,>=0.8.0->langchain_google_genai) (0.6.10)\n",
            "Requirement already satisfied: google-api-core in /usr/local/lib/python3.11/dist-packages (from google-generativeai<0.9.0,>=0.8.0->langchain_google_genai) (2.19.2)\n",
            "Requirement already satisfied: google-api-python-client in /usr/local/lib/python3.11/dist-packages (from google-generativeai<0.9.0,>=0.8.0->langchain_google_genai) (2.155.0)\n",
            "Requirement already satisfied: google-auth>=2.15.0 in /usr/local/lib/python3.11/dist-packages (from google-generativeai<0.9.0,>=0.8.0->langchain_google_genai) (2.27.0)\n",
            "Requirement already satisfied: protobuf in /usr/local/lib/python3.11/dist-packages (from google-generativeai<0.9.0,>=0.8.0->langchain_google_genai) (4.25.5)\n",
            "Requirement already satisfied: tqdm in /usr/local/lib/python3.11/dist-packages (from google-generativeai<0.9.0,>=0.8.0->langchain_google_genai) (4.67.1)\n",
            "Requirement already satisfied: typing-extensions in /usr/local/lib/python3.11/dist-packages (from google-generativeai<0.9.0,>=0.8.0->langchain_google_genai) (4.12.2)\n",
            "Requirement already satisfied: proto-plus<2.0.0dev,>=1.22.3 in /usr/local/lib/python3.11/dist-packages (from google-ai-generativelanguage==0.6.10->google-generativeai<0.9.0,>=0.8.0->langchain_google_genai) (1.25.0)\n",
            "Requirement already satisfied: PyYAML>=5.3 in /usr/local/lib/python3.11/dist-packages (from langchain-core<0.4.0,>=0.3.27->langchain_google_genai) (6.0.2)\n",
            "Requirement already satisfied: jsonpatch<2.0,>=1.33 in /usr/local/lib/python3.11/dist-packages (from langchain-core<0.4.0,>=0.3.27->langchain_google_genai) (1.33)\n",
            "Requirement already satisfied: langsmith<0.4,>=0.1.125 in /usr/local/lib/python3.11/dist-packages (from langchain-core<0.4.0,>=0.3.27->langchain_google_genai) (0.2.10)\n",
            "Requirement already satisfied: packaging<25,>=23.2 in /usr/local/lib/python3.11/dist-packages (from langchain-core<0.4.0,>=0.3.27->langchain_google_genai) (24.2)\n",
            "Requirement already satisfied: tenacity!=8.4.0,<10.0.0,>=8.1.0 in /usr/local/lib/python3.11/dist-packages (from langchain-core<0.4.0,>=0.3.27->langchain_google_genai) (9.0.0)\n",
            "Requirement already satisfied: annotated-types>=0.6.0 in /usr/local/lib/python3.11/dist-packages (from pydantic<3,>=2->langchain_google_genai) (0.7.0)\n",
            "Requirement already satisfied: pydantic-core==2.27.2 in /usr/local/lib/python3.11/dist-packages (from pydantic<3,>=2->langchain_google_genai) (2.27.2)\n",
            "Requirement already satisfied: googleapis-common-protos<2.0.dev0,>=1.56.2 in /usr/local/lib/python3.11/dist-packages (from google-api-core->google-generativeai<0.9.0,>=0.8.0->langchain_google_genai) (1.66.0)\n",
            "Requirement already satisfied: requests<3.0.0.dev0,>=2.18.0 in /usr/local/lib/python3.11/dist-packages (from google-api-core->google-generativeai<0.9.0,>=0.8.0->langchain_google_genai) (2.32.3)\n",
            "Requirement already satisfied: cachetools<6.0,>=2.0.0 in /usr/local/lib/python3.11/dist-packages (from google-auth>=2.15.0->google-generativeai<0.9.0,>=0.8.0->langchain_google_genai) (5.5.0)\n",
            "Requirement already satisfied: pyasn1-modules>=0.2.1 in /usr/local/lib/python3.11/dist-packages (from google-auth>=2.15.0->google-generativeai<0.9.0,>=0.8.0->langchain_google_genai) (0.4.1)\n",
            "Requirement already satisfied: rsa<5,>=3.1.4 in /usr/local/lib/python3.11/dist-packages (from google-auth>=2.15.0->google-generativeai<0.9.0,>=0.8.0->langchain_google_genai) (4.9)\n",
            "Requirement already satisfied: jsonpointer>=1.9 in /usr/local/lib/python3.11/dist-packages (from jsonpatch<2.0,>=1.33->langchain-core<0.4.0,>=0.3.27->langchain_google_genai) (3.0.0)\n",
            "Requirement already satisfied: httpx<1,>=0.23.0 in /usr/local/lib/python3.11/dist-packages (from langsmith<0.4,>=0.1.125->langchain-core<0.4.0,>=0.3.27->langchain_google_genai) (0.28.1)\n",
            "Requirement already satisfied: orjson<4.0.0,>=3.9.14 in /usr/local/lib/python3.11/dist-packages (from langsmith<0.4,>=0.1.125->langchain-core<0.4.0,>=0.3.27->langchain_google_genai) (3.10.14)\n",
            "Requirement already satisfied: requests-toolbelt<2.0.0,>=1.0.0 in /usr/local/lib/python3.11/dist-packages (from langsmith<0.4,>=0.1.125->langchain-core<0.4.0,>=0.3.27->langchain_google_genai) (1.0.0)\n",
            "Requirement already satisfied: httplib2<1.dev0,>=0.19.0 in /usr/local/lib/python3.11/dist-packages (from google-api-python-client->google-generativeai<0.9.0,>=0.8.0->langchain_google_genai) (0.22.0)\n",
            "Requirement already satisfied: google-auth-httplib2<1.0.0,>=0.2.0 in /usr/local/lib/python3.11/dist-packages (from google-api-python-client->google-generativeai<0.9.0,>=0.8.0->langchain_google_genai) (0.2.0)\n",
            "Requirement already satisfied: uritemplate<5,>=3.0.1 in /usr/local/lib/python3.11/dist-packages (from google-api-python-client->google-generativeai<0.9.0,>=0.8.0->langchain_google_genai) (4.1.1)\n",
            "Requirement already satisfied: grpcio<2.0dev,>=1.33.2 in /usr/local/lib/python3.11/dist-packages (from google-api-core[grpc]!=2.0.*,!=2.1.*,!=2.10.*,!=2.2.*,!=2.3.*,!=2.4.*,!=2.5.*,!=2.6.*,!=2.7.*,!=2.8.*,!=2.9.*,<3.0.0dev,>=1.34.1->google-ai-generativelanguage==0.6.10->google-generativeai<0.9.0,>=0.8.0->langchain_google_genai) (1.69.0)\n",
            "Requirement already satisfied: grpcio-status<2.0.dev0,>=1.33.2 in /usr/local/lib/python3.11/dist-packages (from google-api-core[grpc]!=2.0.*,!=2.1.*,!=2.10.*,!=2.2.*,!=2.3.*,!=2.4.*,!=2.5.*,!=2.6.*,!=2.7.*,!=2.8.*,!=2.9.*,<3.0.0dev,>=1.34.1->google-ai-generativelanguage==0.6.10->google-generativeai<0.9.0,>=0.8.0->langchain_google_genai) (1.62.3)\n",
            "Requirement already satisfied: pyparsing!=3.0.0,!=3.0.1,!=3.0.2,!=3.0.3,<4,>=2.4.2 in /usr/local/lib/python3.11/dist-packages (from httplib2<1.dev0,>=0.19.0->google-api-python-client->google-generativeai<0.9.0,>=0.8.0->langchain_google_genai) (3.2.1)\n",
            "Requirement already satisfied: anyio in /usr/local/lib/python3.11/dist-packages (from httpx<1,>=0.23.0->langsmith<0.4,>=0.1.125->langchain-core<0.4.0,>=0.3.27->langchain_google_genai) (3.7.1)\n",
            "Requirement already satisfied: certifi in /usr/local/lib/python3.11/dist-packages (from httpx<1,>=0.23.0->langsmith<0.4,>=0.1.125->langchain-core<0.4.0,>=0.3.27->langchain_google_genai) (2024.12.14)\n",
            "Requirement already satisfied: httpcore==1.* in /usr/local/lib/python3.11/dist-packages (from httpx<1,>=0.23.0->langsmith<0.4,>=0.1.125->langchain-core<0.4.0,>=0.3.27->langchain_google_genai) (1.0.7)\n",
            "Requirement already satisfied: idna in /usr/local/lib/python3.11/dist-packages (from httpx<1,>=0.23.0->langsmith<0.4,>=0.1.125->langchain-core<0.4.0,>=0.3.27->langchain_google_genai) (3.10)\n",
            "Requirement already satisfied: h11<0.15,>=0.13 in /usr/local/lib/python3.11/dist-packages (from httpcore==1.*->httpx<1,>=0.23.0->langsmith<0.4,>=0.1.125->langchain-core<0.4.0,>=0.3.27->langchain_google_genai) (0.14.0)\n",
            "Requirement already satisfied: pyasn1<0.7.0,>=0.4.6 in /usr/local/lib/python3.11/dist-packages (from pyasn1-modules>=0.2.1->google-auth>=2.15.0->google-generativeai<0.9.0,>=0.8.0->langchain_google_genai) (0.6.1)\n",
            "Requirement already satisfied: charset-normalizer<4,>=2 in /usr/local/lib/python3.11/dist-packages (from requests<3.0.0.dev0,>=2.18.0->google-api-core->google-generativeai<0.9.0,>=0.8.0->langchain_google_genai) (3.4.1)\n",
            "Requirement already satisfied: urllib3<3,>=1.21.1 in /usr/local/lib/python3.11/dist-packages (from requests<3.0.0.dev0,>=2.18.0->google-api-core->google-generativeai<0.9.0,>=0.8.0->langchain_google_genai) (2.3.0)\n",
            "Requirement already satisfied: sniffio>=1.1 in /usr/local/lib/python3.11/dist-packages (from anyio->httpx<1,>=0.23.0->langsmith<0.4,>=0.1.125->langchain-core<0.4.0,>=0.3.27->langchain_google_genai) (1.3.1)\n",
            "Downloading langchain_google_genai-2.0.9-py3-none-any.whl (41 kB)\n",
            "\u001b[2K   \u001b[90m━━━━━━━━━━━━━━━━━━━━━━━━━━━━━━━━━━━━━━━━\u001b[0m \u001b[32m41.7/41.7 kB\u001b[0m \u001b[31m2.2 MB/s\u001b[0m eta \u001b[36m0:00:00\u001b[0m\n",
            "\u001b[?25hDownloading filetype-1.2.0-py2.py3-none-any.whl (19 kB)\n",
            "Installing collected packages: filetype, langchain_google_genai\n",
            "Successfully installed filetype-1.2.0 langchain_google_genai-2.0.9\n"
          ]
        }
      ]
    },
    {
      "cell_type": "code",
      "source": [
        "from langchain_google_genai import ChatGoogleGenerativeAI\n",
        "llm = ChatGoogleGenerativeAI(model='gemini-2.0-flash-exp', api_key= GEMINI_API_KEY, max_output_tokens=1024)\n",
        "llm"
      ],
      "metadata": {
        "colab": {
          "base_uri": "https://localhost:8080/"
        },
        "id": "lCp0FVM0AnIP",
        "outputId": "6b3bccb1-d56d-4a99-cab7-d1423febee5c"
      },
      "execution_count": 6,
      "outputs": [
        {
          "output_type": "execute_result",
          "data": {
            "text/plain": [
              "ChatGoogleGenerativeAI(model='models/gemini-2.0-flash-exp', google_api_key=SecretStr('**********'), max_output_tokens=1024, client=<google.ai.generativelanguage_v1beta.services.generative_service.client.GenerativeServiceClient object at 0x7b91744baf50>, default_metadata=())"
            ]
          },
          "metadata": {},
          "execution_count": 6
        }
      ]
    },
    {
      "cell_type": "code",
      "source": [
        "from langgraph.graph import START,END,StateGraph,MessagesState\n",
        "from langgraph.prebuilt import ToolNode"
      ],
      "metadata": {
        "id": "XeF9QhXPA58i"
      },
      "execution_count": 7,
      "outputs": []
    },
    {
      "cell_type": "code",
      "source": [
        "class State(MessagesState):\n",
        "  pass"
      ],
      "metadata": {
        "id": "Es659cJtBVeO"
      },
      "execution_count": 8,
      "outputs": []
    },
    {
      "cell_type": "code",
      "source": [
        "# Tools\n",
        "from langchain_core.tools import tool\n",
        "\n",
        "@tool\n",
        "# Service Type for Stylist and Dentist\n",
        "def get_service_details(category, service_type):\n",
        "    \"\"\"\n",
        "    Fetches service details based on category and service type.\n",
        "\n",
        "    Args:\n",
        "        category (str): The category ('stylist' or 'dentist').\n",
        "        service_type (str): The specific service type within the category.\n",
        "\n",
        "    Returns:\n",
        "        str: Service details including price and time, or an error message if invalid.\n",
        "    \"\"\"\n",
        "    stylist_services = {\n",
        "        \"haircut\": {\"price\": 10, \"time\": 20},\n",
        "        \"beard trim\": {\"price\": 15, \"time\": 25},\n",
        "        \"facial\": {\"price\": 20, \"time\": 30},\n",
        "    }\n",
        "\n",
        "    dentist_services = {\n",
        "        \"root canal\": {\"price\": 10, \"time\": 20},\n",
        "        \"teeth cleaning\": {\"price\": 15, \"time\": 25},\n",
        "        \"teeth scaling\": {\"price\": 20, \"time\": 30},\n",
        "    }\n",
        "\n",
        "    services = {\n",
        "        \"stylist\": stylist_services,\n",
        "        \"dentist\": dentist_services,\n",
        "    }\n",
        "\n",
        "    if category in services:\n",
        "        service_details = services[category].get(service_type)\n",
        "        if service_details:\n",
        "            return f\"The price for {service_type} is ${service_details['price']} and it takes {service_details['time']} minutes.\"\n",
        "        else:\n",
        "            return \"Invalid service type.\"\n",
        "    else:\n",
        "        return \"Invalid category. Please choose 'stylist' or 'dentist'.\"\n",
        "\n",
        "\n",
        "@tool\n",
        "def book_appointment(time):\n",
        "    \"\"\"\n",
        "    Confirms an appointment booking for the given time.\n",
        "\n",
        "    Args:\n",
        "        time (str): The time for the appointment (e.g., '2:00 PM').\n",
        "\n",
        "    Returns:\n",
        "        str: Confirmation message for the appointment.\n",
        "    \"\"\"\n",
        "    return f\"Your appointment has been booked for {time}.\"\n"
      ],
      "metadata": {
        "id": "PwYdWVQsBYnM"
      },
      "execution_count": 31,
      "outputs": []
    },
    {
      "cell_type": "code",
      "source": [
        "from typing import Optional, Literal\n",
        "from langchain_core.tools import tool\n",
        "\n",
        "#\n",
        "# # Service Type for Stylist and Dentist\n",
        "# def get_service_details(category: Literal[\"stylist\", \"dentist\"], service_type: str) -> str:  # Added type hints\n",
        "#     \"\"\"\n",
        "#     Fetches service details based on category and service type.\n",
        "\n",
        "#     Args:\n",
        "#         category (str): The category ('stylist' or 'dentist').\n",
        "#         service_type (str): The specific service type within the category.\n",
        "\n",
        "#     Returns:\n",
        "#         str: Service details including price and time, or an error message if invalid.\n",
        "#     \"\"\"\n",
        "#     stylist_services = {\n",
        "#         \"haircut\": {\"price\": 10, \"time\": 20},\n",
        "#         \"beard trim\": {\"price\": 15, \"time\": 25},\n",
        "#         \"facial\": {\"price\": 20, \"time\": 30},\n",
        "#     }\n",
        "\n",
        "#     dentist_services = {\n",
        "#         \"root canal\": {\"price\": 10, \"time\": 20},\n",
        "#         \"teeth cleaning\": {\"price\": 15, \"time\": 25},\n",
        "#         \"teeth scaling\": {\"price\": 20, \"time\": 30},\n",
        "#     }\n",
        "\n",
        "#     services = {\n",
        "#         \"stylist\": stylist_services,\n",
        "#         \"dentist\": dentist_services,\n",
        "#     }\n",
        "\n",
        "#     if category in services:\n",
        "#         service_details = services[category].get(service_type)\n",
        "#         if service_details:\n",
        "#             return f\"The price for {service_type} is ${service_details['price']} and it takes {service_details['time']} minutes.\"\n",
        "#         else:\n",
        "#             return \"Invalid service type.\"\n",
        "#     else:\n",
        "#         return \"Invalid category. Please choose 'stylist' or 'dentist'.\"\n",
        "\n",
        "#\n",
        "# def get_stylist_service_details(service_type: str) -> str:\n",
        "#     \"\"\"\n",
        "#     Fetches service details for stylist services.\n",
        "\n",
        "#     Args:\n",
        "#         service_type (str): The specific service type within the stylist category.\n",
        "\n",
        "#     Returns:\n",
        "#         str: Service details including price and time, or an error message if invalid.\n",
        "#     \"\"\"\n",
        "#     stylist_services = {\n",
        "#         \"haircut\": {\"price\": 10, \"time\": 20},\n",
        "#         \"beard trim\": {\"price\": 15, \"time\": 25},\n",
        "#         \"facial\": {\"price\": 20, \"time\": 30},\n",
        "#     }\n",
        "\n",
        "#     service_details = stylist_services.get(service_type)\n",
        "#     if service_details:\n",
        "#         return f\"The price for {service_type} is ${service_details['price']} and it takes {service_details['time']} minutes.\"\n",
        "#     else:\n",
        "#         return \"Invalid stylist service type.\"\n",
        "#\n",
        "# def get_dentist_service_details(service_type: str) -> str:\n",
        "#     \"\"\"\n",
        "#     Fetches service details for dentist services.\n",
        "\n",
        "#     Args:\n",
        "#         service_type (str): The specific service type within the dentist category.\n",
        "\n",
        "#     Returns:\n",
        "#         str: Service details including price and time, or an error message if invalid.\n",
        "#     \"\"\"\n",
        "#     dentist_services = {\n",
        "#         \"root canal\": {\"price\": 10, \"time\": 20},\n",
        "#         \"teeth cleaning\": {\"price\": 15, \"time\": 25},\n",
        "#         \"teeth scaling\": {\"price\": 20, \"time\": 30},\n",
        "#     }\n",
        "\n",
        "#     service_details = dentist_services.get(service_type)\n",
        "#     if service_details:\n",
        "#         return f\"The price for {service_type} is ${service_details['price']} and it takes {service_details['time']} minutes.\"\n",
        "#     else:\n",
        "#         return \"Invalid dentist service type.\"\n",
        "\n",
        "@tool\n",
        "def get_stylist_service_details(service_type: str) -> str:\n",
        "    \"\"\"\n",
        "    Fetches service details for stylist services.\n",
        "\n",
        "    Args:\n",
        "        service_type (str): The specific service type within the stylist category.\n",
        "                            Valid options include:\n",
        "                            - \"haircut\": Basic haircut service.\n",
        "                            - \"beard trim\": Beard trimming service.\n",
        "                            - \"facial\": Facial skincare service.\n",
        "\n",
        "    Returns:\n",
        "        str: A user-friendly message with the price and time for the selected stylist service.\n",
        "             For example:\n",
        "             - \"The price for haircut is $10 and it takes 20 minutes.\"\n",
        "             - \"Invalid stylist service type.\" (if the service type is invalid).\n",
        "    \"\"\"\n",
        "    stylist_services = {\n",
        "        \"haircut\": {\"price\": 10, \"time\": 20},\n",
        "        \"beard trim\": {\"price\": 15, \"time\": 25},\n",
        "        \"facial\": {\"price\": 20, \"time\": 30},\n",
        "    }\n",
        "    service_details = stylist_services.get(service_type)\n",
        "    if service_details:\n",
        "        return f\"The price for {service_type} is ${service_details['price']} and it takes {service_details['time']} minutes.\"\n",
        "    else:\n",
        "        return \"Invalid stylist service type.\"\n",
        "\n",
        "\n",
        "@tool\n",
        "def get_dentist_service_details(service_type: str) -> str:\n",
        "    \"\"\"\n",
        "    Fetches service details for dentist services.\n",
        "\n",
        "    Args:\n",
        "        service_type (str): The specific service type within the dentist category.\n",
        "                            Valid options include:\n",
        "                            - \"root canal\": Root canal treatment service.\n",
        "                            - \"teeth cleaning\": Dental cleaning service.\n",
        "                            - \"teeth scaling\": Dental scaling service.\n",
        "\n",
        "    Returns:\n",
        "        str: A user-friendly message with the price and time for the selected dentist service.\n",
        "             For example:\n",
        "             - \"The price for teeth cleaning is $15 and it takes 25 minutes.\"\n",
        "             - \"Invalid dentist service type.\" (if the service type is invalid).\n",
        "    \"\"\"\n",
        "    dentist_services = {\n",
        "        \"root canal\": {\"price\": 10, \"time\": 20},\n",
        "        \"teeth cleaning\": {\"price\": 15, \"time\": 25},\n",
        "        \"teeth scaling\": {\"price\": 20, \"time\": 30},\n",
        "    }\n",
        "    service_details = dentist_services.get(service_type)\n",
        "    if service_details:\n",
        "        return f\"The price for {service_type} is ${service_details['price']} and it takes {service_details['time']} minutes.\"\n",
        "    else:\n",
        "        return \"Invalid dentist service type.\"\n",
        "\n",
        "\n",
        "@tool\n",
        "def book_appointment(time: str) -> str:  # Added type hints\n",
        "    \"\"\"\n",
        "    Confirms an appointment booking for the given time.\n",
        "\n",
        "    Args:\n",
        "        time (str): The time for the appointment (e.g., '2:00 PM').\n",
        "\n",
        "    Returns:\n",
        "        str: Confirmation message for the appointment.\n",
        "    \"\"\"\n",
        "    return f\"Your appointment has been booked for {time}.\""
      ],
      "metadata": {
        "id": "biNV0Cg-KAPP"
      },
      "execution_count": 66,
      "outputs": []
    },
    {
      "cell_type": "code",
      "source": [
        "tools = [get_stylist_service_details, get_dentist_service_details, book_appointment]\n",
        "llm_with_tools  = llm.bind_tools(tools)"
      ],
      "metadata": {
        "id": "wtox8za7EZXe"
      },
      "execution_count": 67,
      "outputs": []
    },
    {
      "cell_type": "code",
      "source": [
        "from langchain_core.messages import AnyMessage, SystemMessage, HumanMessage, AIMessage\n",
        "sys_msg = SystemMessage(content= f\"\"\"You are a professional service provider bot that assists users in selecting and booking appointments for stylist and dentist services. Your tasks include:\n",
        "\n",
        "###Providing Service Details:\n",
        "\n",
        "Fetch and present service details (price and time required) for the selected category (stylist or dentist) and service type.\n",
        "Ensure accurate and user-friendly explanations.\n",
        "###Booking Appointments:\n",
        "\n",
        "Confirm appointments for the user at their specified time.\n",
        "Provide a clear and polite confirmation message.\n",
        "##Interaction Flow:\n",
        "Introduction: Welcome the user, explaining your capabilities for managing stylist and dentist services.\n",
        "Service Details: Ask the user to select a category and service type, then provide the relevant details.\n",
        "Appointment Booking: If the user wishes to proceed, confirm their preferred time and finalize the booking.\n",
        "##Error Handling:\n",
        "Respond with clear error messages for invalid inputs, such as:\n",
        "\"Invalid category. Please choose 'stylist' or 'dentist'.\"\n",
        "\"Invalid service type. Please provide a valid service.\"\n",
        "##Example Interaction:\n",
        "User: I need a haircut.\n",
        "Bot: Sure! The price for a haircut is $10, and it takes 20 minutes. When would you like to book your appointment?\n",
        "\n",
        "User: 4:00 PM tomorrow.\n",
        "Bot: Your appointment has been successfully booked for 4:00 PM tomorrow. Thank you!\"\"\")"
      ],
      "metadata": {
        "id": "YT11ysckFM-_"
      },
      "execution_count": 57,
      "outputs": []
    },
    {
      "cell_type": "code",
      "source": [
        "from langgraph.prebuilt import ToolNode\n",
        "from langgraph.prebuilt import tools_condition\n",
        "\n",
        "\n",
        "# Build Grafrom langgraph.prebuilt import tools_conditionph\n",
        "builder: StateGraph = StateGraph(state_schema=MessagesState)\n",
        "builder.add_node(\"LLM_withTools\", llm_with_tools)\n",
        "builder.add_node(\"tools\", ToolNode(tools))\n",
        "\n"
      ],
      "metadata": {
        "colab": {
          "base_uri": "https://localhost:8080/"
        },
        "id": "p0fpwpGiFcQ7",
        "outputId": "ee2a74ed-5478-4fd6-d1d7-30b14d8eac9c"
      },
      "execution_count": 68,
      "outputs": [
        {
          "output_type": "execute_result",
          "data": {
            "text/plain": [
              "<langgraph.graph.state.StateGraph at 0x7b9158abe050>"
            ]
          },
          "metadata": {},
          "execution_count": 68
        }
      ]
    },
    {
      "cell_type": "code",
      "source": [
        "builder.add_edge(START, \"LLM_withTools\")\n",
        "builder.add_conditional_edges(\"LLM_withTools\", tools_condition)\n",
        "builder.add_edge(\"tools\",\"LLM_withTools\")\n",
        "#builder.add_edge(\"tools\", END)\n",
        "from langgraph.graph.state import CompiledStateGraph\n",
        "graph: CompiledStateGraph = builder.compile()"
      ],
      "metadata": {
        "id": "G6hT3QFkFnHd"
      },
      "execution_count": 69,
      "outputs": []
    },
    {
      "cell_type": "code",
      "source": [
        "from IPython.display import display, Image\n",
        "display(Image(graph.get_graph().draw_mermaid_png()))"
      ],
      "metadata": {
        "colab": {
          "base_uri": "https://localhost:8080/",
          "height": 266
        },
        "id": "7MchRtLUF0y8",
        "outputId": "db43c65a-efbd-495e-f2c6-6d268a7c5a35"
      },
      "execution_count": 70,
      "outputs": [
        {
          "output_type": "display_data",
          "data": {
            "image/png": "[encoded data removed]",
            "text/plain": [
              "<IPython.core.display.Image object>"
            ]
          },
          "metadata": {}
        }
      ]
    },
    {
      "cell_type": "code",
      "source": [
        "from langchain_core.messages import AIMessage, HumanMessage\n",
        "\n",
        "# Initialize the chatbot state\n",
        "state = State(messages=[])\n",
        "\n",
        "# Function to invoke tools and return a response through LLM\n",
        "def chatbot(state: State) -> State:\n",
        "    \"\"\"\n",
        "    Handles user interaction by appending new messages to the state,\n",
        "    invoking tools if needed, and generating a natural language response through LLM.\n",
        "    \"\"\"\n",
        "    # Invoke the LLM with the current state\n",
        "    llm_response = llm_with_tools.invoke([sys_msg] + state['messages'])\n",
        "\n",
        "    # Check if a tool was called\n",
        "    tool_calls = llm_response.additional_kwargs.get(\"function_call\", None)\n",
        "    if tool_calls:\n",
        "        # Parse tool call details\n",
        "        tool_name = tool_calls[\"name\"]\n",
        "        tool_args = tool_calls[\"arguments\"]\n",
        "        tool_args = eval(tool_args)  # Convert arguments from JSON string to dictionary\n",
        "\n",
        "        # Execute the tool\n",
        "        tool_result = None\n",
        "        for tool in tools:\n",
        "            if tool.name == tool_name:\n",
        "                tool_result = tool.func(**tool_args)\n",
        "                break\n",
        "\n",
        "        # Create a message with the tool result and reinvoke the LLM\n",
        "        tool_result_message = HumanMessage(\n",
        "            content=f\"The tool '{tool_name}' calculated the result: {tool_result}. \"\n",
        "                    f\"Please craft a natural language response for the user.\"\n",
        "        )\n",
        "        final_response = llm_with_tools.invoke([sys_msg] + state['messages'] + [tool_result_message])\n",
        "\n",
        "        # Append the final response to the state\n",
        "        state['messages'].append(final_response)\n",
        "    else:\n",
        "        # If no tool was called, append the original response\n",
        "        state['messages'].append(llm_response)\n",
        "\n",
        "    return state\n",
        "# Function to simulate a chatbot session\n",
        "def chatbot_test():\n",
        "    print(\"Chatbot is ready. Type 'exit' to quit.\")\n",
        "    while True:\n",
        "        user_input = input(\"You: \")\n",
        "        if user_input.lower() == 'exit':\n",
        "            print(\"Chatbot: Goodbye!\")\n",
        "            break\n",
        "\n",
        "        # Append user input as a HumanMessage to the state\n",
        "        state['messages'].append(HumanMessage(content=user_input))\n",
        "\n",
        "        # Get the chatbot response\n",
        "        updated_state = chatbot(state)\n",
        "\n",
        "        # Extract and print the latest AI response\n",
        "        ai_response = updated_state['messages'][-1]  # The chatbot's response is the last message\n",
        "        if isinstance(ai_response, AIMessage):\n",
        "            print(f\"Chatbot: {ai_response.content}\")\n",
        "        else:\n",
        "            print(\"Chatbot: Sorry, something went wrong.\")\n",
        "\n",
        "# Start the chatbot test\n",
        "chatbot_test()"
      ],
      "metadata": {
        "colab": {
          "base_uri": "https://localhost:8080/"
        },
        "id": "rIunPgo3F33C",
        "outputId": "d2be94d9-dfd4-4d55-eebb-ac7208526964"
      },
      "execution_count": 63,
      "outputs": [
        {
          "output_type": "stream",
          "name": "stdout",
          "text": [
            "Chatbot is ready. Type 'exit' to quit.\n",
            "You: hi\n",
            "Chatbot: Hello! I'm here to help you with booking stylist and dentist appointments. Would you like to know more about our services?\n",
            "You: yes.\n",
            "Chatbot: Great! To get started, please specify whether you're interested in 'stylist' or 'dentist' services.\n",
            "You: i want to do a haircut\n",
            "Chatbot: Sure! The price for a haircut is $10, and it takes 20 minutes. When would you like to book your appointment?\n",
            "You: i also want to do a teeth cleaning,\n",
            "Chatbot: Okay, the price for teeth cleaning is $50, and it takes 30 minutes. Would you like to book both appointments? And if so, what time would you like to book them?\n",
            "You: what;s the price of root canal?\n",
            "Chatbot: The price for a root canal is $10, and it takes 20 minutes.\n",
            "You: and whats the price from teeth cleaning from your docs.\n",
            "Chatbot: Okay, the price for teeth cleaning with our dentists is $15, and it takes 25 minutes.\n",
            "You: OK, I need both,\n",
            "Chatbot: Great! So you'd like to book a root canal and teeth cleaning. What time would you like to book your appointments?\n",
            "You: tomorrow at 20 pm.\n",
            "Chatbot: I'm sorry, but 20 PM is not a valid time. Please provide a valid time, such as 2:00 PM or 8:00 AM.\n",
            "You: tomorrow at 3 pm.\n",
            "Chatbot: Your appointment has been successfully booked for 3:00 PM tomorrow. Thank you!\n",
            "You: exit.\n",
            "Chatbot: Thank you for using our service! Have a great day!\n",
            "You: exit\n",
            "Chatbot: Goodbye!\n"
          ]
        }
      ]
    },
    {
      "cell_type": "markdown",
      "source": [
        "## Second"
      ],
      "metadata": {
        "id": "87r-xultSn92"
      }
    },
    {
      "cell_type": "code",
      "source": [
        "sys_msg = SystemMessage(content=\"\"\"You are a professional service provider bot that assists users in selecting and booking appointments for stylist and dentist services.\n",
        "\n",
        "### Guidelines:\n",
        "1. **Service Details**:\n",
        "   Always use the provided tools to fetch accurate details (price and time) for the service type. Avoid guessing or generating details yourself.\n",
        "2. **Appointment Booking**:\n",
        "   To book an appointment, ask the user for their preferred time and confirm it using the `book_appointment` tool.\n",
        "3. **Error Handling**:\n",
        "   If a tool cannot process the input, provide the user with clear guidance on what to do next. Examples:\n",
        "   - \"Invalid category. Please choose 'stylist' or 'dentist'.\"\n",
        "   - \"Invalid service type. Please provide a valid service.\"\n",
        "\n",
        "### Interaction Flow:\n",
        "1. Welcome the user and guide them to specify a service type.\n",
        "2. Fetch service details using the correct tool and provide them to the user.\n",
        "3. Confirm booking details using the `book_appointment` tool and finalize the booking.\n",
        "4. Always ensure clarity and user-friendliness in your responses.\n",
        "\"\"\")\n"
      ],
      "metadata": {
        "id": "mQdNZw2rSnmU"
      },
      "execution_count": 73,
      "outputs": []
    },
    {
      "cell_type": "code",
      "source": [
        "def chatbot(state: State) -> State:\n",
        "    \"\"\"\n",
        "    Handles user interaction by appending new messages to the state,\n",
        "    invoking tools if needed, and generating a natural language response through LLM.\n",
        "    \"\"\"\n",
        "    llm_response = llm_with_tools.invoke([sys_msg] + state['messages'])\n",
        "\n",
        "    # Check if the LLM called a tool\n",
        "    tool_calls = llm_response.additional_kwargs.get(\"function_call\", None)\n",
        "    if tool_calls:\n",
        "        tool_name = tool_calls[\"name\"]\n",
        "        tool_args = eval(tool_calls[\"arguments\"])  # Convert arguments from JSON string to dictionary\n",
        "\n",
        "        # Find and invoke the correct tool\n",
        "        tool_result = None\n",
        "        for tool in tools:\n",
        "            if tool.name == tool_name:\n",
        "                try:\n",
        "                    tool_result = tool.func(**tool_args)\n",
        "                except Exception as e:\n",
        "                    tool_result = f\"Error invoking tool: {e}\"\n",
        "                break\n",
        "\n",
        "        # Append tool result to the state\n",
        "        tool_result_message = HumanMessage(content=tool_result)\n",
        "        state['messages'].append(tool_result_message)\n",
        "\n",
        "        # Re-invoke the LLM with tool result\n",
        "        final_response = llm_with_tools.invoke([sys_msg] + state['messages'])\n",
        "        state['messages'].append(final_response)\n",
        "    else:\n",
        "        # Append the LLM response directly\n",
        "        state['messages'].append(llm_response)\n",
        "\n",
        "    return state\n",
        "\n",
        "\n",
        "# Function to simulate a chatbot session\n",
        "def chatbot_test():\n",
        "    print(\"Chatbot is ready. Type 'exit' to quit.\")\n",
        "    while True:\n",
        "        user_input = input(\"You: \")\n",
        "        if user_input.lower() == 'exit':\n",
        "            print(\"Chatbot: Goodbye!\")\n",
        "            break\n",
        "\n",
        "        # Append user input as a HumanMessage to the state\n",
        "        state['messages'].append(HumanMessage(content=user_input))\n",
        "\n",
        "        # Get the chatbot response\n",
        "        updated_state = chatbot(state)\n",
        "\n",
        "        # Extract and print the latest AI response\n",
        "        ai_response = updated_state['messages'][-1]  # The chatbot's response is the last message\n",
        "        if isinstance(ai_response, AIMessage):\n",
        "            print(f\"Chatbot: {ai_response.content}\")\n",
        "        else:\n",
        "            print(\"Chatbot: Sorry, something went wrong.\")\n",
        "\n",
        "# Start the chatbot test\n",
        "chatbot_test()"
      ],
      "metadata": {
        "colab": {
          "base_uri": "https://localhost:8080/"
        },
        "id": "-9RYPjOySncs",
        "outputId": "c5cf3df2-d19e-44e3-ed9b-edffc7577d7a"
      },
      "execution_count": 76,
      "outputs": [
        {
          "output_type": "stream",
          "name": "stdout",
          "text": [
            "Chatbot is ready. Type 'exit' to quit.\n",
            "You: hi,\n",
            "Chatbot: Hello! I'm here to help you with booking stylist and dentist appointments. Would you like to know more about our services?\n",
            "You: yes.\n",
            "Chatbot: Great! To get started, please specify whether you're interested in 'stylist' or 'dentist' services.\n",
            "You: I need a haircut.\n",
            "Chatbot: Okay, the price for a haircut is $10, and it takes 20 minutes. Would you like to book an appointment? If so, what time would you like to book it for?\n",
            "You: I also need a haircut.\n",
            "Chatbot: Okay, it seems like you want to book two haircuts. Is that correct? And if so, what time would you like to book them for?\n",
            "You: no need 1 haircut.\n",
            "Chatbot: Okay, just one haircut then. What time would you like to book it for?\n",
            "You: i also need teeth cleaning.\n",
            "Chatbot: Okay, the price for teeth cleaning is $15, and it takes 25 minutes. Would you like to book both appointments? And if so, what time would you like to book them?\n",
            "You: how much total time i need to avail these services?\n",
            "Chatbot: The haircut takes 20 minutes and the teeth cleaning takes 25 minutes. So, in total, you'll need 45 minutes for both services. What time would you like to book your appointments?\n",
            "You: tomorrow at 2 pm.\n",
            "Chatbot: Your appointment has been booked for 2:00 PM.\n",
            "You: exit\n",
            "Chatbot: Goodbye!\n"
          ]
        }
      ]
    },
    {
      "cell_type": "code",
      "source": [],
      "metadata": {
        "id": "o5IG5vBVSnVH"
      },
      "execution_count": null,
      "outputs": []
    },
    {
      "cell_type": "code",
      "source": [
        "hi"
      ],
      "metadata": {
        "id": "uJ-ASyhMJzfU"
      },
      "execution_count": null,
      "outputs": []
    }
  ]
}